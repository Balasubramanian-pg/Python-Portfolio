{
 "cells": [
  {
   "cell_type": "markdown",
   "id": "270b22f0",
   "metadata": {},
   "source": [
    "<h1 style=\"text-align: center;\" class=\"list-group-item list-group-item-action active\">NYC AirBnB Data Analysis</h1>\n",
    "<ul style=\"list-style-type:none;\">\n",
    "    <li><a class=\"list-group-item list-group-item-action\" data-toggle=\"list\" href=\"#1\" role=\"tab\">\n",
    "            1. Introduction<span class=\"badge badge-primary badge-pill\">1</span>\n",
    "        </a>\n",
    "    </li>\n",
    "    <li><a class=\"list-group-item list-group-item-action\" data-toggle=\"list\" href=\"#2\" role=\"tab\">\n",
    "            2. Exploratory Analysis<span class=\"badge badge-primary badge-pill\">2</span>\n",
    "        </a>\n",
    "        <ul style=\"list-style-type:none;\">\n",
    "            <li><a class=\"list-group-item list-group-item-action\" data-toggle=\"list\" href=\"#2.1\" role=\"tab\">\n",
    "                    2.1 Setup: Imports & Plotting Functions<span class=\"badge badge-primary badge-pill\">3</span>\n",
    "                </a>\n",
    "            </li>\n",
    "            <li><a class=\"list-group-item list-group-item-action\" data-toggle=\"list\" href=\"#2.2\" role=\"tab\">\n",
    "                    2.2 Load and Inspect Data<span class=\"badge badge-primary badge-pill\">4</span>\n",
    "                </a>\n",
    "            </li>\n",
    "            <li><a class=\"list-group-item list-group-item-action\" data-toggle=\"list\" href=\"#2.3\" role=\"tab\">\n",
    "                    2.3 Data Visualization<span class=\"badge badge-primary badge-pill\">5</span>\n",
    "                </a>\n",
    "            </li>\n",
    "        </ul>\n",
    "    </li>\n",
    "    <li><a class=\"list-group-item list-group-item-action\" data-toggle=\"list\" href=\"#3\" role=\"tab\">\n",
    "            3. Conclusion<span class=\"badge badge-primary badge-pill\">6</span>\n",
    "        </a>\n",
    "    </li>\n",
    "</ul>\n"
   ]
  },
  {
   "cell_type": "markdown",
   "id": "e44d32a8",
   "metadata": {},
   "source": [
    "<h1 style=\"text-align: center\" class=\"list-group-item list-group-item-action active\">1. Introduction</h1><a id=\"1\"></a>\n"
   ]
  },
  {
   "cell_type": "markdown",
   "id": "0676443c",
   "metadata": {},
   "source": [
    "Greetings from the Kaggle bot! This is an automatically-generated kernel with starter code demonstrating how to read in the data and begin exploring. Click the blue \"Edit Notebook\" or \"Fork Notebook\" button at the top of this kernel to begin editing.\n"
   ]
  },
  {
   "cell_type": "markdown",
   "id": "31277a83",
   "metadata": {},
   "source": [
    "<h1 style=\"text-align: center\" class=\"list-group-item list-group-item-action active\">2. Exploratory Analysis</h1><a id=\"2\"></a>\n"
   ]
  },
  {
   "cell_type": "markdown",
   "id": "e9ed9b95",
   "metadata": {},
   "source": [
    "To begin this exploratory analysis, first use `matplotlib` to import libraries and define functions for plotting the data. Depending on the data, not all plots will be made. (Hey, I'm just a kerneling bot, not a Kaggle Competitions Grandmaster!)\n"
   ]
  },
  {
   "cell_type": "markdown",
   "id": "098d5c41",
   "metadata": {},
   "source": [
    "<h2 style=\"text-align: center\" class=\"list-group-item list-group-item-success\">2.1 Setup: Imports & Plotting Functions</h2><a id=\"2.1\"></a>\n"
   ]
  },
  {
   "cell_type": "code",
   "id": "14f2e624",
   "metadata": {
    "collapsed": false
   },
   "source": [
    "from mpl_toolkits.mplot3d import Axes3D\n",
    "from sklearn.preprocessing import StandardScaler\n",
    "import matplotlib.pyplot as plt # plotting\n",
    "import numpy as np # linear algebra\n",
    "import os # accessing directory structure\n",
    "import pandas as pd # data processing, CSV file I/O (e.g. pd.read_csv)\n"
   ],
   "outputs": [],
   "execution_count": null
  },
  {
   "cell_type": "markdown",
   "id": "3b680c2f",
   "metadata": {},
   "source": [
    "The next hidden code cells define functions for plotting data. Click on the \"Code\" button in the published kernel to reveal the hidden code.\n"
   ]
  },
  {
   "cell_type": "code",
   "id": "b3fd4c34",
   "metadata": {
    "collapsed": true
   },
   "source": [
    "# Distribution graphs (histogram/bar graph) of column data\n",
    "def plotPerColumnDistribution(df, nGraphShown, nGraphPerRow):\n",
    "    nunique = df.nunique()\n",
    "    df = df[[col for col in df if nunique[col] > 1 and nunique[col] < 50]] # For displaying purposes, pick columns that have between 1 and 50 unique values\n",
    "    nRow, nCol = df.shape\n",
    "    columnNames = list(df)\n",
    "    nGraphRow = (nCol + nGraphPerRow - 1) / nGraphPerRow\n",
    "    plt.figure(num = None, figsize = (6 * nGraphPerRow, 8 * nGraphRow), dpi = 80, facecolor = 'w', edgecolor = 'k')\n",
    "    for i in range(min(nCol, nGraphShown)):\n",
    "        plt.subplot(nGraphRow, nGraphPerRow, i + 1)\n",
    "        columnDf = df.iloc[:, i]\n",
    "        if (not np.issubdtype(type(columnDf.iloc[0]), np.number)):\n",
    "            valueCounts = columnDf.value_counts()\n",
    "            valueCounts.plot.bar()\n",
    "        else:\n",
    "            columnDf.hist()\n",
    "        plt.ylabel('counts')\n",
    "        plt.xticks(rotation = 90)\n",
    "        plt.title(f'{columnNames[i]} (column {i})')\n",
    "    plt.tight_layout(pad = 1.0, w_pad = 1.0, h_pad = 1.0)\n",
    "    plt.show()\n"
   ],
   "outputs": [],
   "execution_count": null
  },
  {
   "cell_type": "code",
   "id": "b73b22b6",
   "metadata": {
    "collapsed": true
   },
   "source": [
    "# Correlation matrix\n",
    "def plotCorrelationMatrix(df, graphWidth):\n",
    "    filename = df.dataframeName\n",
    "    df = df.dropna('columns') # drop columns with NaN\n",
    "    df = df[[col for col in df if df[col].nunique() > 1]] # keep columns where there are more than 1 unique values\n",
    "    if df.shape[1] < 2:\n",
    "        print(f'No correlation plots shown: The number of non-NaN or constant columns ({df.shape[1]}) is less than 2')\n",
    "        return\n",
    "    corr = df.corr()\n",
    "    plt.figure(num=None, figsize=(graphWidth, graphWidth), dpi=80, facecolor='w', edgecolor='k')\n",
    "    corrMat = plt.matshow(corr, fignum = 1)\n",
    "    plt.xticks(range(len(corr.columns)), corr.columns, rotation=90)\n",
    "    plt.yticks(range(len(corr.columns)), corr.columns)\n",
    "    plt.gca().xaxis.tick_bottom()\n",
    "    plt.colorbar(corrMat)\n",
    "    plt.title(f'Correlation Matrix for {filename}', fontsize=15)\n",
    "    plt.show()\n"
   ],
   "outputs": [],
   "execution_count": null
  },
  {
   "cell_type": "code",
   "id": "31b0e5ee",
   "metadata": {
    "collapsed": true
   },
   "source": [
    "# Scatter and density plots\n",
    "def plotScatterMatrix(df, plotSize, textSize):\n",
    "    df = df.select_dtypes(include =[np.number]) # keep only numerical columns\n",
    "    # Remove rows and columns that would lead to df being singular\n",
    "    df = df.dropna('columns')\n",
    "    df = df[[col for col in df if df[col].nunique() > 1]] # keep columns where there are more than 1 unique values\n",
    "    columnNames = list(df)\n",
    "    if len(columnNames) > 10: # reduce the number of columns for matrix inversion of kernel density plots\n",
    "        columnNames = columnNames[:10]\n",
    "    df = df[columnNames]\n",
    "    ax = pd.plotting.scatter_matrix(df, alpha=0.75, figsize=[plotSize, plotSize], diagonal='kde')\n",
    "    corrs = df.corr().values\n",
    "    for i, j in zip(*plt.np.triu_indices_from(ax, k = 1)):\n",
    "        ax[i, j].annotate('Corr. coef = %.3f' % corrs[i, j], (0.8, 0.2), xycoords='axes fraction', ha='center', va='center', size=textSize)\n",
    "    plt.suptitle('Scatter and Density Plot')\n",
    "    plt.show()\n"
   ],
   "outputs": [],
   "execution_count": null
  },
  {
   "cell_type": "markdown",
   "id": "5318d1a1",
   "metadata": {},
   "source": [
    "<h2 style=\"text-align: center\" class=\"list-group-item list-group-item-success\">2.2 Load and Inspect Data</h2><a id=\"2.2\"></a>\n"
   ]
  },
  {
   "cell_type": "markdown",
   "id": "1d8f5b84",
   "metadata": {},
   "source": [
    "Now you're ready to read in the data and use the plotting functions to visualize the data.\n"
   ]
  },
  {
   "cell_type": "markdown",
   "id": "2d1f9a88",
   "metadata": {},
   "source": [
    "### Let's check the `AB_NYC_2019.csv` file:\n"
   ]
  },
  {
   "cell_type": "code",
   "id": "ed7d1c15",
   "metadata": {
    "collapsed": false
   },
   "source": [
    "nRowsRead = 1000 # specify 'None' if want to read whole file\n",
    "# AB_NYC_2019.csv has 48895 rows in reality, but we are only loading/previewing the first 1000 rows\n",
    "df1 = pd.read_csv('/kaggle/input/AB_NYC_2019.csv', delimiter=',', nrows = nRowsRead)\n",
    "df1.dataframeName = 'AB_NYC_2019.csv'\n",
    "nRow, nCol = df1.shape\n",
    "print(f'There are {nRow} rows and {nCol} columns')\n"
   ],
   "outputs": [],
   "execution_count": null
  },
  {
   "cell_type": "markdown",
   "id": "59a6e1d2",
   "metadata": {},
   "source": [
    "Let's take a quick look at what the data looks like:\n"
   ]
  },
  {
   "cell_type": "code",
   "id": "016f4c1c",
   "metadata": {
    "collapsed": false
   },
   "source": [
    "df1.head(5)\n"
   ],
   "outputs": [],
   "execution_count": null
  },
  {
   "cell_type": "markdown",
   "id": "b3e0f6c2",
   "metadata": {},
   "source": [
    "<h2 style=\"text-align: center\" class=\"list-group-item list-group-item-success\">2.3 Data Visualization</h2><a id=\"2.3\"></a>\n"
   ]
  },
  {
   "cell_type": "markdown",
   "id": "57b3c2e1",
   "metadata": {},
   "source": [
    "Distribution graphs (histogram/bar graph) of sampled columns:\n"
   ]
  },
  {
   "cell_type": "code",
   "id": "1c7a8b4e",
   "metadata": {
    "collapsed": false
   },
   "source": [
    "plotPerColumnDistribution(df1, 10, 5)\n"
   ],
   "outputs": [],
   "execution_count": null
  },
  {
   "cell_type": "markdown",
   "id": "c6a1e3d0",
   "metadata": {},
   "source": [
    "Correlation matrix:\n"
   ]
  },
  {
   "cell_type": "code",
   "id": "f8a0e9b6",
   "metadata": {
    "collapsed": false
   },
   "source": [
    "plotCorrelationMatrix(df1, 8)\n"
   ],
   "outputs": [],
   "execution_count": null
  },
  {
   "cell_type": "markdown",
   "id": "d1c6b3e9",
   "metadata": {},
   "source": [
    "Scatter and density plots:\n"
   ]
  },
  {
   "cell_type": "code",
   "id": "1a9f7e0e",
   "metadata": {
    "collapsed": false
   },
   "source": [
    "plotScatterMatrix(df1, 20, 10)\n"
   ],
   "outputs": [],
   "execution_count": null
  },
  {
   "cell_type": "markdown",
   "id": "d0e9a5e1",
   "metadata": {},
   "source": [
    "<h1 style=\"text-align: center\" class=\"list-group-item list-group-item-action active\">3. Conclusion</h1><a id=\"3\"></a>\n"
   ]
  },
  {
   "cell_type": "markdown",
   "id": "2f4e0c1f",
   "metadata": {},
   "source": [
    "This concludes your starter analysis! To go forward from here, click the blue \"Edit Notebook\" button at the top of the kernel. This will create a copy of the code and environment for you to edit. Delete, modify, and add code as you please. Happy Kaggling!\n"
   ]
  }
 ],
 "nbformat": 4,
 "nbformat_minor": 5
}
